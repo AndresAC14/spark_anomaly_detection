{
 "cells": [
  {
   "cell_type": "markdown",
   "id": "6c4a3766",
   "metadata": {},
   "source": [
    "# Traffic Data Cleaning"
   ]
  },
  {
   "cell_type": "code",
   "execution_count": null,
   "id": "31d3a8d4",
   "metadata": {},
   "outputs": [],
   "source": [
    "import os\n",
    "import pandas as pd"
   ]
  },
  {
   "cell_type": "code",
   "execution_count": null,
   "id": "ead4352a",
   "metadata": {},
   "outputs": [],
   "source": [
    "def load_all_xml(folder_path):\n",
    "    all_files = [f for f in os.listdir(folder_path) if f.endswith('.xml')]\n",
    "    df_list = [pd.read_xml(os.path.join(folder_path, f)) for f in all_files]\n",
    "    return pd.concat(df_list, ignore_index=True)"
   ]
  },
  {
   "cell_type": "code",
   "execution_count": null,
   "id": "a91d18ae",
   "metadata": {},
   "outputs": [],
   "source": [
    "file = \"database\\\\traffic_data\\\\2025-05-31T19-26-43.564598.xml\"\n",
    "df = pd.read_xml(file)"
   ]
  },
  {
   "cell_type": "code",
   "execution_count": null,
   "id": "eced1364",
   "metadata": {},
   "outputs": [],
   "source": [
    "df.info()"
   ]
  },
  {
   "cell_type": "code",
   "execution_count": null,
   "id": "b44cdffb",
   "metadata": {},
   "outputs": [],
   "source": [
    "df['fecha_hora'] = df['fecha_hora'][0]\n",
    "df = df.drop(columns=['velocidad'], axis=1)\n",
    "df = df.iloc[1:].reset_index(drop=True)"
   ]
  },
  {
   "cell_type": "code",
   "execution_count": null,
   "id": "4784d97c",
   "metadata": {},
   "outputs": [],
   "source": [
    "df.head()"
   ]
  }
 ],
 "metadata": {
  "kernelspec": {
   "display_name": ".venv",
   "language": "python",
   "name": "python3"
  },
  "language_info": {
   "name": "python",
   "version": "3.11.3"
  }
 },
 "nbformat": 4,
 "nbformat_minor": 5
}
